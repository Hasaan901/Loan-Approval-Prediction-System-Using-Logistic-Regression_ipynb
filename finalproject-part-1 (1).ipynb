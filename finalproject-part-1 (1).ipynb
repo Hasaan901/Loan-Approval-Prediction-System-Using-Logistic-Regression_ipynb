{
 "cells": [
  {
   "cell_type": "code",
   "execution_count": 2,
   "id": "12094b3e-cfcf-453a-8ce1-c593dff8f4ea",
   "metadata": {},
   "outputs": [],
   "source": [
    "import pandas as pd\n",
    "import numpy as np\n",
    "import matplotlib.pyplot as plt\n",
    "import seaborn as sns\n",
    "from sklearn.model_selection import train_test_split\n",
    "from sklearn.linear_model import LogisticRegression\n",
    "from sklearn.metrics import accuracy_score #used for finding accuracy rate \n",
    "from sklearn import metrics "
   ]
  },
  {
   "cell_type": "code",
   "execution_count": 64,
   "id": "186ed66d-a7e1-4b7c-9633-4f8d9829e573",
   "metadata": {},
   "outputs": [
    {
     "data": {
      "text/html": [
       "<div>\n",
       "<style scoped>\n",
       "    .dataframe tbody tr th:only-of-type {\n",
       "        vertical-align: middle;\n",
       "    }\n",
       "\n",
       "    .dataframe tbody tr th {\n",
       "        vertical-align: top;\n",
       "    }\n",
       "\n",
       "    .dataframe thead th {\n",
       "        text-align: right;\n",
       "    }\n",
       "</style>\n",
       "<table border=\"1\" class=\"dataframe\">\n",
       "  <thead>\n",
       "    <tr style=\"text-align: right;\">\n",
       "      <th></th>\n",
       "      <th>event</th>\n",
       "      <th>date</th>\n",
       "      <th>country</th>\n",
       "      <th>city</th>\n",
       "      <th>artist</th>\n",
       "      <th>album</th>\n",
       "      <th>track</th>\n",
       "      <th>isrc</th>\n",
       "      <th>linkid</th>\n",
       "    </tr>\n",
       "  </thead>\n",
       "  <tbody>\n",
       "    <tr>\n",
       "      <th>0</th>\n",
       "      <td>click</td>\n",
       "      <td>2021-08-21</td>\n",
       "      <td>Saudi Arabia</td>\n",
       "      <td>Jeddah</td>\n",
       "      <td>Tesher</td>\n",
       "      <td>Jalebi Baby</td>\n",
       "      <td>Jalebi Baby</td>\n",
       "      <td>QZNWQ2070741</td>\n",
       "      <td>2d896d31-97b6-4869-967b-1c5fb9cd4bb8</td>\n",
       "    </tr>\n",
       "    <tr>\n",
       "      <th>1</th>\n",
       "      <td>click</td>\n",
       "      <td>2021-08-21</td>\n",
       "      <td>Saudi Arabia</td>\n",
       "      <td>Jeddah</td>\n",
       "      <td>Tesher</td>\n",
       "      <td>Jalebi Baby</td>\n",
       "      <td>Jalebi Baby</td>\n",
       "      <td>QZNWQ2070741</td>\n",
       "      <td>2d896d31-97b6-4869-967b-1c5fb9cd4bb8</td>\n",
       "    </tr>\n",
       "    <tr>\n",
       "      <th>2</th>\n",
       "      <td>click</td>\n",
       "      <td>2021-08-21</td>\n",
       "      <td>India</td>\n",
       "      <td>Ludhiana</td>\n",
       "      <td>Reyanna Maria</td>\n",
       "      <td>So Pretty</td>\n",
       "      <td>So Pretty</td>\n",
       "      <td>USUM72100871</td>\n",
       "      <td>23199824-9cf5-4b98-942a-34965c3b0cc2</td>\n",
       "    </tr>\n",
       "    <tr>\n",
       "      <th>3</th>\n",
       "      <td>click</td>\n",
       "      <td>2021-08-21</td>\n",
       "      <td>France</td>\n",
       "      <td>Unknown</td>\n",
       "      <td>Simone &amp; Simaria, Sebastian Yatra</td>\n",
       "      <td>No Llores Más</td>\n",
       "      <td>No Llores Más</td>\n",
       "      <td>BRUM72003904</td>\n",
       "      <td>35573248-4e49-47c7-af80-08a960fa74cd</td>\n",
       "    </tr>\n",
       "    <tr>\n",
       "      <th>4</th>\n",
       "      <td>click</td>\n",
       "      <td>2021-08-21</td>\n",
       "      <td>Maldives</td>\n",
       "      <td>Malé</td>\n",
       "      <td>Tesher</td>\n",
       "      <td>Jalebi Baby</td>\n",
       "      <td>Jalebi Baby</td>\n",
       "      <td>QZNWQ2070741</td>\n",
       "      <td>2d896d31-97b6-4869-967b-1c5fb9cd4bb8</td>\n",
       "    </tr>\n",
       "    <tr>\n",
       "      <th>...</th>\n",
       "      <td>...</td>\n",
       "      <td>...</td>\n",
       "      <td>...</td>\n",
       "      <td>...</td>\n",
       "      <td>...</td>\n",
       "      <td>...</td>\n",
       "      <td>...</td>\n",
       "      <td>...</td>\n",
       "      <td>...</td>\n",
       "    </tr>\n",
       "    <tr>\n",
       "      <th>226273</th>\n",
       "      <td>pageview</td>\n",
       "      <td>2021-08-24</td>\n",
       "      <td>Kuwait</td>\n",
       "      <td>Kuwait City</td>\n",
       "      <td>Sean Paul</td>\n",
       "      <td>The Trinity</td>\n",
       "      <td>Temperature</td>\n",
       "      <td>USAT20505520</td>\n",
       "      <td>04ba6b17-1055-4f0e-a75e-3cdb0d0d4106</td>\n",
       "    </tr>\n",
       "    <tr>\n",
       "      <th>226274</th>\n",
       "      <td>pageview</td>\n",
       "      <td>2021-08-24</td>\n",
       "      <td>India</td>\n",
       "      <td>Chennai</td>\n",
       "      <td>Miscél</td>\n",
       "      <td>when you left</td>\n",
       "      <td>when you left</td>\n",
       "      <td>QM42K1907890</td>\n",
       "      <td>2fc15e8b-83aa-40ee-9f9d-5d96c6d4356c</td>\n",
       "    </tr>\n",
       "    <tr>\n",
       "      <th>226275</th>\n",
       "      <td>pageview</td>\n",
       "      <td>2021-08-24</td>\n",
       "      <td>India</td>\n",
       "      <td>Jaipur</td>\n",
       "      <td>Trippie Redd, Lil Uzi Vert</td>\n",
       "      <td>Holy Smokes (feat. Lil Uzi Vert)</td>\n",
       "      <td>Holy Smokes</td>\n",
       "      <td>QZJ842001118</td>\n",
       "      <td>eedc8702-6bd2-499a-972f-260c35f72e0f</td>\n",
       "    </tr>\n",
       "    <tr>\n",
       "      <th>226276</th>\n",
       "      <td>pageview</td>\n",
       "      <td>2021-08-24</td>\n",
       "      <td>France</td>\n",
       "      <td>Unknown</td>\n",
       "      <td>Young Thug</td>\n",
       "      <td>Tick Tock</td>\n",
       "      <td>Tick Tock</td>\n",
       "      <td>USAT22104514</td>\n",
       "      <td>e0a76dc3-7ccd-405f-8ee8-a2c55c0e0ed2</td>\n",
       "    </tr>\n",
       "    <tr>\n",
       "      <th>226277</th>\n",
       "      <td>pageview</td>\n",
       "      <td>2021-08-24</td>\n",
       "      <td>Iraq</td>\n",
       "      <td>Duhok</td>\n",
       "      <td>Tesher</td>\n",
       "      <td>Jalebi Baby</td>\n",
       "      <td>Jalebi Baby</td>\n",
       "      <td>QZNWQ2070741</td>\n",
       "      <td>2d896d31-97b6-4869-967b-1c5fb9cd4bb8</td>\n",
       "    </tr>\n",
       "  </tbody>\n",
       "</table>\n",
       "<p>226278 rows × 9 columns</p>\n",
       "</div>"
      ],
      "text/plain": [
       "           event        date       country         city  \\\n",
       "0          click  2021-08-21  Saudi Arabia       Jeddah   \n",
       "1          click  2021-08-21  Saudi Arabia       Jeddah   \n",
       "2          click  2021-08-21         India     Ludhiana   \n",
       "3          click  2021-08-21        France      Unknown   \n",
       "4          click  2021-08-21      Maldives         Malé   \n",
       "...          ...         ...           ...          ...   \n",
       "226273  pageview  2021-08-24        Kuwait  Kuwait City   \n",
       "226274  pageview  2021-08-24         India      Chennai   \n",
       "226275  pageview  2021-08-24         India       Jaipur   \n",
       "226276  pageview  2021-08-24        France      Unknown   \n",
       "226277  pageview  2021-08-24          Iraq        Duhok   \n",
       "\n",
       "                                   artist                             album  \\\n",
       "0                                  Tesher                       Jalebi Baby   \n",
       "1                                  Tesher                       Jalebi Baby   \n",
       "2                           Reyanna Maria                         So Pretty   \n",
       "3       Simone & Simaria, Sebastian Yatra                     No Llores Más   \n",
       "4                                  Tesher                       Jalebi Baby   \n",
       "...                                   ...                               ...   \n",
       "226273                          Sean Paul                       The Trinity   \n",
       "226274                             Miscél                     when you left   \n",
       "226275         Trippie Redd, Lil Uzi Vert  Holy Smokes (feat. Lil Uzi Vert)   \n",
       "226276                         Young Thug                         Tick Tock   \n",
       "226277                             Tesher                       Jalebi Baby   \n",
       "\n",
       "                track          isrc                                linkid  \n",
       "0         Jalebi Baby  QZNWQ2070741  2d896d31-97b6-4869-967b-1c5fb9cd4bb8  \n",
       "1         Jalebi Baby  QZNWQ2070741  2d896d31-97b6-4869-967b-1c5fb9cd4bb8  \n",
       "2           So Pretty  USUM72100871  23199824-9cf5-4b98-942a-34965c3b0cc2  \n",
       "3       No Llores Más  BRUM72003904  35573248-4e49-47c7-af80-08a960fa74cd  \n",
       "4         Jalebi Baby  QZNWQ2070741  2d896d31-97b6-4869-967b-1c5fb9cd4bb8  \n",
       "...               ...           ...                                   ...  \n",
       "226273    Temperature  USAT20505520  04ba6b17-1055-4f0e-a75e-3cdb0d0d4106  \n",
       "226274  when you left  QM42K1907890  2fc15e8b-83aa-40ee-9f9d-5d96c6d4356c  \n",
       "226275    Holy Smokes  QZJ842001118  eedc8702-6bd2-499a-972f-260c35f72e0f  \n",
       "226276      Tick Tock  USAT22104514  e0a76dc3-7ccd-405f-8ee8-a2c55c0e0ed2  \n",
       "226277    Jalebi Baby  QZNWQ2070741  2d896d31-97b6-4869-967b-1c5fb9cd4bb8  \n",
       "\n",
       "[226278 rows x 9 columns]"
      ]
     },
     "execution_count": 64,
     "metadata": {},
     "output_type": "execute_result"
    }
   ],
   "source": [
    "df = pd.read_csv(\"LinkFire.csv\")\n",
    "df"
   ]
  },
  {
   "cell_type": "code",
   "execution_count": 84,
   "id": "165f5ac4-c217-45f7-bb13-6f364173d092",
   "metadata": {},
   "outputs": [
    {
     "data": {
      "text/plain": [
       "array(['click', 'preview', 'pageview'], dtype=object)"
      ]
     },
     "execution_count": 84,
     "metadata": {},
     "output_type": "execute_result"
    }
   ],
   "source": [
    "df[\"event\"].unique()"
   ]
  },
  {
   "cell_type": "code",
   "execution_count": 60,
   "id": "19f35a8b-fd65-4d8d-951c-f5601696ad9a",
   "metadata": {},
   "outputs": [
    {
     "data": {
      "text/plain": [
       "array(['2021-08-21', '2021-08-20', '2021-08-22', '2021-08-23',\n",
       "       '2021-08-24', '2021-08-25', '2021-08-19'], dtype=object)"
      ]
     },
     "execution_count": 60,
     "metadata": {},
     "output_type": "execute_result"
    }
   ],
   "source": [
    "df[\"date\"].unique()"
   ]
  },
  {
   "cell_type": "code",
   "execution_count": null,
   "id": "acb34525-fed6-44a6-bef2-0c45b2f09dc2",
   "metadata": {},
   "outputs": [],
   "source": [
    "#q1 how many onclick events per day"
   ]
  },
  {
   "cell_type": "code",
   "execution_count": 82,
   "id": "4e00fbd7-857e-4346-8103-188873bc9d36",
   "metadata": {},
   "outputs": [
    {
     "name": "stdout",
     "output_type": "stream",
     "text": [
      "2021-08-21 21349 onclick events\n",
      "2021-08-20 21382 onclick events\n",
      "2021-08-22 20430 onclick events\n",
      "2021-08-23 18646 onclick events\n",
      "2021-08-24 18693 onclick events\n",
      "2021-08-25 19149 onclick events\n",
      "2021-08-19 22366 onclick events\n"
     ]
    }
   ],
   "source": [
    "a = df.loc[(df[\"event\"]== \"pageview\") & (df[\"date\"]== \"2021-08-21\")]\n",
    "print(\"2021-08-21\",a[\"event\"].count(),\"onclick events\")\n",
    "b = df.loc[(df[\"event\"]== \"pageview\") & (df[\"date\"]== \"2021-08-20\")]\n",
    "print(\"2021-08-20\",b[\"event\"].count(),\"onclick events\")\n",
    "c = df.loc[(df[\"event\"]== \"pageview\") & (df[\"date\"]== \"2021-08-22\")]\n",
    "print(\"2021-08-22\",c[\"event\"].count(),\"onclick events\")\n",
    "d = df.loc[(df[\"event\"]== \"pageview\") & (df[\"date\"]== \"2021-08-23\")]\n",
    "print(\"2021-08-23\",d[\"event\"].count(),\"onclick events\")\n",
    "e = df.loc[(df[\"event\"]== \"pageview\") & (df[\"date\"]== \"2021-08-24\")]\n",
    "print(\"2021-08-24\",e[\"event\"].count(),\"onclick events\")\n",
    "f = df.loc[(df[\"event\"]== \"pageview\") & (df[\"date\"]== \"2021-08-25\")]\n",
    "print(\"2021-08-25\",f[\"event\"].count(),\"onclick events\")\n",
    "g = df.loc[(df[\"event\"]== \"pageview\") & (df[\"date\"]== \"2021-08-19\")]\n",
    "print(\"2021-08-19\",g[\"event\"].count(),\"onclick events\")"
   ]
  },
  {
   "cell_type": "code",
   "execution_count": 92,
   "id": "4ab7b215-eebc-4d3f-9918-4216bede4cb4",
   "metadata": {},
   "outputs": [],
   "source": [
    "#preview events"
   ]
  },
  {
   "cell_type": "code",
   "execution_count": 96,
   "id": "9c1f66fb-c5a3-41af-bcae-002860cfd692",
   "metadata": {},
   "outputs": [
    {
     "name": "stdout",
     "output_type": "stream",
     "text": [
      "2021-08-21 4663 preview events\n",
      "2021-08-20 4222 preview events\n",
      "2021-08-22 4349 preview events\n",
      "2021-08-23 3847 preview events\n",
      "2021-08-24 3840 preview events\n",
      "2021-08-25 3822 preview events\n",
      "2021-08-19 3788 preview events\n"
     ]
    }
   ],
   "source": [
    "a = df.loc[(df[\"event\"]== \"preview\") & (df[\"date\"]== \"2021-08-21\")]\n",
    "print(\"2021-08-21\",a[\"event\"].count(),\"preview events\")\n",
    "b = df.loc[(df[\"event\"]== \"preview\") & (df[\"date\"]== \"2021-08-20\")]\n",
    "print(\"2021-08-20\",b[\"event\"].count(),\"preview events\")\n",
    "c = df.loc[(df[\"event\"]== \"preview\") & (df[\"date\"]== \"2021-08-22\")]\n",
    "print(\"2021-08-22\",c[\"event\"].count(),\"preview events\")\n",
    "d = df.loc[(df[\"event\"]== \"preview\") & (df[\"date\"]== \"2021-08-23\")]\n",
    "print(\"2021-08-23\",d[\"event\"].count(),\"preview events\")\n",
    "e = df.loc[(df[\"event\"]== \"preview\") & (df[\"date\"]== \"2021-08-24\")]\n",
    "print(\"2021-08-24\",e[\"event\"].count(),\"preview events\")\n",
    "f = df.loc[(df[\"event\"]== \"preview\") & (df[\"date\"]== \"2021-08-25\")]\n",
    "print(\"2021-08-25\",f[\"event\"].count(),\"preview events\")\n",
    "g = df.loc[(df[\"event\"]== \"preview\") & (df[\"date\"]== \"2021-08-19\")]\n",
    "print(\"2021-08-19\",g[\"event\"].count(),\"preview events\")"
   ]
  },
  {
   "cell_type": "code",
   "execution_count": 98,
   "id": "6e0765b4-ef4c-4a6b-862d-bda277d0a324",
   "metadata": {},
   "outputs": [],
   "source": [
    "#click events"
   ]
  },
  {
   "cell_type": "code",
   "execution_count": 100,
   "id": "ba203934-7220-4b50-87bf-3e2034f38cf6",
   "metadata": {},
   "outputs": [
    {
     "name": "stdout",
     "output_type": "stream",
     "text": [
      "2021-08-21 8071 click events\n",
      "2021-08-20 8508 click events\n",
      "2021-08-22 7854 click events\n",
      "2021-08-23 7315 click events\n",
      "2021-08-24 7301 click events\n",
      "2021-08-25 7476 click events\n",
      "2021-08-19 9207 click events\n"
     ]
    }
   ],
   "source": [
    "a = df.loc[(df[\"event\"]== \"click\") & (df[\"date\"]== \"2021-08-21\")]\n",
    "print(\"2021-08-21\",a[\"event\"].count(),\"click events\")\n",
    "b = df.loc[(df[\"event\"]== \"click\") & (df[\"date\"]== \"2021-08-20\")]\n",
    "print(\"2021-08-20\",b[\"event\"].count(),\"click events\")\n",
    "c = df.loc[(df[\"event\"]== \"click\") & (df[\"date\"]== \"2021-08-22\")]\n",
    "print(\"2021-08-22\",c[\"event\"].count(),\"click events\")\n",
    "d = df.loc[(df[\"event\"]== \"click\") & (df[\"date\"]== \"2021-08-23\")]\n",
    "print(\"2021-08-23\",d[\"event\"].count(),\"click events\")\n",
    "e = df.loc[(df[\"event\"]== \"click\") & (df[\"date\"]== \"2021-08-24\")]\n",
    "print(\"2021-08-24\",e[\"event\"].count(),\"click events\")\n",
    "f = df.loc[(df[\"event\"]== \"click\") & (df[\"date\"]== \"2021-08-25\")]\n",
    "print(\"2021-08-25\",f[\"event\"].count(),\"click events\")\n",
    "g = df.loc[(df[\"event\"]== \"click\") & (df[\"date\"]== \"2021-08-19\")]\n",
    "print(\"2021-08-19\",g[\"event\"].count(),\"click events\")"
   ]
  },
  {
   "cell_type": "code",
   "execution_count": 102,
   "id": "a452eca1-97fd-4246-99a5-508a56132550",
   "metadata": {},
   "outputs": [],
   "source": [
    "#q2 which countries did the pageview come from"
   ]
  },
  {
   "cell_type": "code",
   "execution_count": 144,
   "id": "5d87bbad-59f1-4225-9442-2d40b48db513",
   "metadata": {},
   "outputs": [
    {
     "data": {
      "text/plain": [
       "array(['Saudi Arabia', 'India', 'France', 'Maldives', 'United States',\n",
       "       'Sierra Leone', 'United Kingdom', 'Sweden', 'United Arab Emirates',\n",
       "       'Qatar', 'Germany', 'Albania', 'Iraq', 'Romania', 'Morocco',\n",
       "       'Kuwait', 'Nigeria', 'Finland', 'Bangladesh', 'Fiji', 'Turkey',\n",
       "       'Russia', 'Belgium', 'Norway', 'Cabo Verde', 'Italy', 'Austria',\n",
       "       'Libya', 'Pakistan', 'Bahrain', 'Tunisia', 'DR Congo', 'Australia',\n",
       "       'Canada', 'Kenya', 'French Guiana', 'Jordan', 'Netherlands',\n",
       "       'Somalia', 'Mexico', 'Oman', 'Sri Lanka', 'Ecuador', 'Latvia',\n",
       "       'Guatemala', 'South Africa', 'Bosnia and Herzegovina', 'Yemen',\n",
       "       'Switzerland', 'Slovenia', 'Mauritania', 'Cameroon', 'Spain',\n",
       "       'Thailand', 'Egypt', 'Poland', 'Ghana', 'Gabon', 'Greece',\n",
       "       'Burkina Faso', 'Malaysia', 'Zambia', 'American Samoa', 'Algeria',\n",
       "       'Uganda', 'Bulgaria', 'Denmark', 'Colombia', 'Portugal', 'Senegal',\n",
       "       'Ireland', 'Panama', 'Serbia', 'Haiti', 'Honduras', 'Tanzania',\n",
       "       'Nepal', 'Palestine', 'Paraguay', 'Brazil', 'Niger', 'Lebanon',\n",
       "       'Jamaica', 'Georgia', 'Hungary', 'Philippines', 'Botswana',\n",
       "       'Israel', 'Ukraine', 'Peru', 'Hong Kong', 'Iceland', 'Estonia',\n",
       "       'Singapore', 'Azerbaijan', 'Mali', 'Mozambique', 'Ivory Coast',\n",
       "       'Guinea', 'Ethiopia', 'Dominican Republic', 'Martinique',\n",
       "       'Nicaragua', 'Turks and Caicos Islands', 'Kyrgyzstan', 'Réunion',\n",
       "       'Bhutan', 'Kosovo', 'New Zealand', 'Croatia', 'Belize', 'Japan',\n",
       "       nan, 'Lithuania', 'Angola', 'Puerto Rico', 'Luxembourg', 'Benin',\n",
       "       'Slovakia', 'Indonesia', 'Djibouti', 'Bahamas', 'Togo', 'Armenia',\n",
       "       'Argentina', 'Bolivia', 'South Korea', 'Iran', 'Moldova', 'Rwanda',\n",
       "       'Zimbabwe', 'Cayman Islands', 'Burundi', 'Montenegro', 'Malta',\n",
       "       'Costa Rica', 'El Salvador', 'Czechia', 'Venezuela',\n",
       "       'Papua New Guinea', 'Congo Republic', 'Sudan', 'North Macedonia',\n",
       "       'Uzbekistan', 'Myanmar', 'Trinidad and Tobago', 'Aruba', 'Guyana',\n",
       "       'Mongolia', 'Barbados', 'Curaçao', 'Liberia', 'Mauritius', 'Chile',\n",
       "       'Suriname', 'Cambodia', 'China', 'Kazakhstan', 'Namibia',\n",
       "       'U.S. Virgin Islands', 'Chad', 'Greenland', 'Mayotte',\n",
       "       'Marshall Islands', 'Saint Martin',\n",
       "       'Saint Vincent and the Grenadines', 'Dominica', 'Gambia',\n",
       "       'Eswatini', 'Comoros', 'Laos', 'Cyprus', 'Guadeloupe', 'Eritrea',\n",
       "       'Tajikistan', 'Liechtenstein', 'Uruguay', 'Antigua and Barbuda',\n",
       "       'Anguilla', 'Seychelles', 'British Virgin Islands', 'Grenada',\n",
       "       'French Polynesia', 'Vietnam', 'Saint Lucia', 'Wallis and Futuna',\n",
       "       'Gibraltar', 'St Kitts and Nevis', 'Belarus', 'Taiwan', 'Syria',\n",
       "       'Isle of Man', 'Madagascar', 'New Caledonia',\n",
       "       'Central African Republic', 'Malawi', 'Bermuda', 'Solomon Islands',\n",
       "       'Guernsey', 'Palau', 'Åland', 'Principality of Monaco', 'Brunei',\n",
       "       'Andorra', 'Guinea-Bissau', 'Jersey', 'Faroe Islands', 'Samoa',\n",
       "       'Lesotho', 'Macao', 'Afghanistan', 'Sint Maarten'], dtype=object)"
      ]
     },
     "execution_count": 144,
     "metadata": {},
     "output_type": "execute_result"
    }
   ],
   "source": [
    " df[\"country\"].unique()"
   ]
  },
  {
   "cell_type": "code",
   "execution_count": 163,
   "id": "199a38fe-b928-4141-bb81-5dfff928a4f9",
   "metadata": {},
   "outputs": [
    {
     "name": "stdout",
     "output_type": "stream",
     "text": [
      "country\n",
      "Saudi Arabia         28873\n",
      "India                27286\n",
      "United States        20839\n",
      "France                9674\n",
      "Iraq                  4897\n",
      "                     ...  \n",
      "Wallis and Futuna        1\n",
      "Solomon Islands          1\n",
      "Guinea-Bissau            1\n",
      "Lesotho                  1\n",
      "Saint Martin             1\n",
      "Name: count, Length: 211, dtype: int64\n"
     ]
    }
   ],
   "source": [
    "a = df.loc[(df[\"event\"]== \"pageview\")]\n",
    "x = a[\"country\"].value_counts()\n",
    "print(x)"
   ]
  },
  {
   "cell_type": "code",
   "execution_count": null,
   "id": "c0d12dbd-9393-4519-a01e-d226dc01f683",
   "metadata": {},
   "outputs": [],
   "source": [
    "#q3 different event rates"
   ]
  },
  {
   "cell_type": "code",
   "execution_count": 181,
   "id": "dcb3204d-df33-463e-97fe-c0de1fc76108",
   "metadata": {},
   "outputs": [
    {
     "name": "stdout",
     "output_type": "stream",
     "text": [
      "142015\n",
      "55732\n",
      "28531\n",
      "226278\n"
     ]
    }
   ],
   "source": [
    "a = df.loc[(df[\"event\"]== \"pageview\")].count()\n",
    "b = df.loc[(df[\"event\"]== \"click\")].count()\n",
    "c = df.loc[(df[\"event\"]== \"preview\")].count()\n",
    "pageview = a[\"event\"]\n",
    "click = b[\"event\"]\n",
    "preview = c[\"event\"]\n",
    "totalevents = df[\"event\"].count()\n",
    "print(pageview)\n",
    "print(click)\n",
    "print(preview)\n",
    "print(totalevents)"
   ]
  },
  {
   "cell_type": "code",
   "execution_count": 185,
   "id": "0dc266a3-4a99-4adf-938d-2ddb4b217526",
   "metadata": {},
   "outputs": [
    {
     "name": "stdout",
     "output_type": "stream",
     "text": [
      "62.7612936299596 %\n",
      "24.629880059042417 %\n",
      "12.608826310997975 %\n"
     ]
    }
   ],
   "source": [
    "pageviewrate = (pageview/totalevents)*100\n",
    "clickrate = (click/totalevents)*100\n",
    "previewrate = (preview/totalevents)*100\n",
    "print(pageviewrate,\"%\")\n",
    "print(clickrate,\"%\")\n",
    "print(previewrate,\"%\")"
   ]
  },
  {
   "cell_type": "markdown",
   "id": "38146269-7449-4eb6-94af-cfacbea76712",
   "metadata": {},
   "source": [
    "pageview event has the most rate while click event has second highest rate and preview event has least rate"
   ]
  },
  {
   "cell_type": "code",
   "execution_count": null,
   "id": "21bd9a32-5055-4362-a6a3-0a1d21d1a631",
   "metadata": {},
   "outputs": [],
   "source": []
  }
 ],
 "metadata": {
  "kernelspec": {
   "display_name": "Python 3 (ipykernel)",
   "language": "python",
   "name": "python3"
  },
  "language_info": {
   "codemirror_mode": {
    "name": "ipython",
    "version": 3
   },
   "file_extension": ".py",
   "mimetype": "text/x-python",
   "name": "python",
   "nbconvert_exporter": "python",
   "pygments_lexer": "ipython3",
   "version": "3.12.4"
  }
 },
 "nbformat": 4,
 "nbformat_minor": 5
}
